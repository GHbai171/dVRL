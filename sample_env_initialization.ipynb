{
 "cells": [
  {
   "cell_type": "code",
   "execution_count": 1,
   "metadata": {},
   "outputs": [],
   "source": [
    "import gym\n",
    "import dVRL_simulator\n",
    "import numpy as np"
   ]
  },
  {
   "cell_type": "code",
   "execution_count": 2,
   "metadata": {},
   "outputs": [],
   "source": [
    "env_reach = gym.make(\"dVRLReach-v0\")"
   ]
  },
  {
   "cell_type": "code",
   "execution_count": 3,
   "metadata": {},
   "outputs": [
    {
     "name": "stdout",
     "output_type": "stream",
     "text": [
      "{'is_success': 1.0}\n"
     ]
    }
   ],
   "source": [
    "s = env_reach.reset()\n",
    "env_reach.render()\n",
    "\n",
    "for _ in range(100):\n",
    "    a = np.clip(10*(s['desired_goal'] - s['observation']), -1, 1)\n",
    "    s, r, _, info = env_reach.step(a)\n",
    "    \n",
    "print(info)"
   ]
  },
  {
   "cell_type": "code",
   "execution_count": 4,
   "metadata": {},
   "outputs": [],
   "source": [
    "env_reach.close()"
   ]
  },
  {
   "cell_type": "code",
   "execution_count": 5,
   "metadata": {},
   "outputs": [],
   "source": [
    "env_pick = gym.make(\"dVRLPick-v0\")"
   ]
  },
  {
   "cell_type": "code",
   "execution_count": 6,
   "metadata": {},
   "outputs": [
    {
     "name": "stdout",
     "output_type": "stream",
     "text": [
      "{'is_success': 1.0}\n"
     ]
    }
   ],
   "source": [
    "s = env_pick.reset()\n",
    "env_pick.render()\n",
    "\n",
    "for _ in range(14):\n",
    "    a = np.array([0,0,-1,1])\n",
    "    s, r, _, info = env_pick.step(a)\n",
    "\n",
    "for _ in range(2):\n",
    "    a = np.array([0,0,0,-0.6])\n",
    "    s, r, _, info = env_pick.step(a)\n",
    "    \n",
    "for _ in range(50):\n",
    "    a = np.append(np.clip(10*(s['desired_goal'] - s['observation'][-3:]), -1, 1), [-0.6])\n",
    "    s, r, _, info = env_pick.step(a)\n",
    "    \n",
    "print(info)"
   ]
  },
  {
   "cell_type": "code",
   "execution_count": 7,
   "metadata": {},
   "outputs": [],
   "source": [
    "env_pick.close()"
   ]
  },
  {
   "cell_type": "code",
   "execution_count": null,
   "metadata": {},
   "outputs": [],
   "source": []
  }
 ],
 "metadata": {
  "kernelspec": {
   "display_name": "env",
   "language": "python",
   "name": "env"
  },
  "language_info": {
   "codemirror_mode": {
    "name": "ipython",
    "version": 3
   },
   "file_extension": ".py",
   "mimetype": "text/x-python",
   "name": "python",
   "nbconvert_exporter": "python",
   "pygments_lexer": "ipython3",
   "version": "3.5.2"
  }
 },
 "nbformat": 4,
 "nbformat_minor": 2
}
